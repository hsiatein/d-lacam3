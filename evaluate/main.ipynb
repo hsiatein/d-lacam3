{
 "cells": [
  {
   "cell_type": "code",
   "execution_count": 2,
   "metadata": {},
   "outputs": [],
   "source": [
    "import subprocess\n",
    "import utils\n",
    "import matplotlib.pyplot as plt\n",
    "import numpy as np\n",
    "import pandas as pd"
   ]
  },
  {
   "cell_type": "code",
   "execution_count": 9,
   "metadata": {},
   "outputs": [
    {
     "name": "stdout",
     "output_type": "stream",
     "text": [
      "/home/mugi/VSCODE/CPP/d-lacam3/evaluate\n",
      "\n"
     ]
    }
   ],
   "source": [
    "mapDict={0:[\"corners\",4],\n",
    "         1:[\"corners2\",5],\n",
    "         2:[\"loop-chain\",7],\n",
    "         3:[\"connector\",6],\n",
    "         4:[\"string\",5],\n",
    "         5:[\"tree\",3],\n",
    "         6:[\"tree2\",17],\n",
    "         7:[\"tunnel\",4],\n",
    "         8:[\"lak303d\",1000],\n",
    "         9:[\"random-32-32-10-2\",485],\n",
    "         10:[\"random-32-32-10\",460],\n",
    "         11:[\"maze-128-128-1\",350],\n",
    "         12:[\"room-64-64-8\",1000],\n",
    "         13:[\"w_woundedcoast\",1000],\n",
    "         14:[\"Berlin_1_256\",1000],\n",
    "         15:[\"brc202d\",1000],\n",
    "         16:[\"den312d\",400],\n",
    "         17:[\"maze-32-32-4\",100],\n",
    "         18:[\"maze-128-128-2\",300],\n",
    "         19:[\"orz900d\",1000],\n",
    "         20:[\"warehouse-20-40-10-2-1\",1000],\n",
    "         21:[\"warehouse-20-40-10-2-2\",1000],\n",
    "         22:[\"room-32-32-4\"],\n",
    "         23:[\"warehouse-10-20-10-2-1\"]}\n",
    "\n",
    "Candidates=[8,10,11,12,13,14,15,16,17,18,19,20,21]\n",
    "\n",
    "result=subprocess.run('pwd', capture_output=True, text=True, check=True)\n",
    "print(result.stdout)\n"
   ]
  },
  {
   "cell_type": "markdown",
   "metadata": {},
   "source": [
    "读取csv文件"
   ]
  },
  {
   "cell_type": "code",
   "execution_count": 10,
   "metadata": {},
   "outputs": [
    {
     "name": "stderr",
     "output_type": "stream",
     "text": [
      "Processing: 100%|██████████| 50/50 [00:05<00:00,  8.92it/s, message=average_ub0:2.3100276000000006,average_ub4:2.2772240000000004]"
     ]
    },
    {
     "name": "stdout",
     "output_type": "stream",
     "text": [
      "            instance total  n0        ub0  n4       ub4 average_ub0  \\\n",
      "0  room-32-32-4&&200    50  50  115.50138  50  113.8612    2.310028   \n",
      "\n",
      "  average_ub4  \n",
      "0    2.277224  \n"
     ]
    },
    {
     "name": "stderr",
     "output_type": "stream",
     "text": [
      "\n"
     ]
    }
   ],
   "source": [
    "import random\n",
    "from tqdm import tqdm\n",
    "\n",
    "\n",
    "def custom_sort(instance):\n",
    "    # 分割字符串\n",
    "    parts = instance.split('&&')\n",
    "    # 获取名称部分和数值部分\n",
    "    name_part = parts[0]\n",
    "    value_part = int(parts[1])  # 将数值部分转换为整数\n",
    "    return (name_part, value_part)  # 返回元组\n",
    "\n",
    "csv_name=\"loss with SUO.csv\"\n",
    "\n",
    "df = pd.read_csv(csv_name)\n",
    "# 提取特定列\n",
    "columns = ['instance','total', 'n0', 'ub0', 'n4', 'ub4', 'average_ub0', 'average_ub4']\n",
    "# 打印提取的 DataFrame\n",
    "TieBreakers=['0','4']\n",
    "selected=22\n",
    "num=200\n",
    "instance=mapDict[selected][0]+\"&&\"+str(num)\n",
    "df=utils.check_and_add_instance(df,instance)\n",
    "seeds_num=50\n",
    "with tqdm(total=seeds_num, desc=\"Processing\") as pbar:\n",
    "    for i in range(seeds_num):\n",
    "        seed=random.randint(0,100000000)\n",
    "        # print(mapDict[selected][0])\n",
    "        # print(num)\n",
    "        # print(seed)\n",
    "        df=utils.df_add_num(df,instance,'total',1)\n",
    "        for tiebreaker in TieBreakers:\n",
    "            # 构建命令\n",
    "            compute = [\n",
    "                '../build/main',\n",
    "                '-i', f'../assets/{mapDict[selected][0]}.scen',\n",
    "                '-m', f'../assets/{mapDict[selected][0]}.map',\n",
    "                '-N', str(num),\n",
    "                '-v', '1',\n",
    "                '-t', '10',\n",
    "                '--no-star',\n",
    "                #'--no-scatter',\n",
    "                '--tie-breaker',tiebreaker,\n",
    "                '-s',str(seed),\n",
    "            ]\n",
    "            try:\n",
    "                # 运行命令\n",
    "                result_compute = subprocess.run(compute, capture_output=True, text=True, check=True)\n",
    "                # 打印输出\n",
    "                # print(\"标准输出:\")\n",
    "                # print(result_compute.stdout)\n",
    "                # print(\"标准错误:\")\n",
    "                # print(result_compute.stderr)\n",
    "                cost,lb,ub=utils.extract_total_cost(result_compute.stdout)\n",
    "                if ub>=1:\n",
    "                    df=utils.df_add_num(df,instance,'n'+tiebreaker,1)\n",
    "                    df=utils.df_add_num(df,instance,'ub'+tiebreaker,round(ub,5))\n",
    "                    average_ub=df.loc[df['instance'] == instance, 'ub'+tiebreaker]/df.loc[df['instance'] == instance, 'n'+tiebreaker]\n",
    "                    df=utils.df_set_num(df,instance,'average_ub'+tiebreaker,round(average_ub,5))\n",
    "                    df=df.sort_values(by='instance', key=lambda col: col.map(custom_sort))\n",
    "                    df.reset_index(drop=True, inplace=True)\n",
    "                    df.to_csv(csv_name, index=False)\n",
    "                    pass\n",
    "            except subprocess.CalledProcessError as e:\n",
    "                print(f\"命令执行失败: {e}\")\n",
    "                print(f\"返回码: {e.returncode}\")\n",
    "                print(f\"标准错误: {e.stderr}\")\n",
    "                break\n",
    "        pbar.set_postfix(message=f\"average_ub0:{df.loc[df['instance'] == instance, 'average_ub0'].values[0]},average_ub4:{df.loc[df['instance'] == instance, 'average_ub4'].values[0]}\")\n",
    "        #pbar.write(df.to_string())\n",
    "        pbar.update(1)\n",
    "print(df)\n"
   ]
  },
  {
   "cell_type": "markdown",
   "metadata": {},
   "source": [
    "绘图"
   ]
  },
  {
   "cell_type": "code",
   "execution_count": 11,
   "metadata": {},
   "outputs": [
    {
     "data": {
      "image/png": "[encoded data removed]",
      "text/plain": [
       "<Figure size 1200x500 with 1 Axes>"
      ]
     },
     "metadata": {},
     "output_type": "display_data"
    },
    {
     "name": "stdout",
     "output_type": "stream",
     "text": [
      "0.9749596115379552\n"
     ]
    }
   ],
   "source": [
    "df = pd.read_csv(csv_name)\n",
    "# print(df)\n",
    "# 设置柱状图的宽度\n",
    "bar_width = 0.9\n",
    "x = np.arange(len(df['instance']))\n",
    "# 绘制叠加柱状图\n",
    "plt.figure(figsize=(12,5))\n",
    "plt.bar(x, 1, color='orange', label='average_ub0',width=bar_width)\n",
    "reg_ub=(df['average_ub4']-1)/(df['average_ub0']-1)\n",
    "plt.bar(x, reg_ub, color='green', label='average_ub4',width=bar_width)\n",
    "\n",
    "# 添加标题和标签\n",
    "plt.title('ub0 and ub4')\n",
    "plt.ylabel('(ub4-1)/(ub0-1)')\n",
    "#plt.ylim(bottom=1)\n",
    "plt.xticks(x, df['instance'], rotation=90)\n",
    "#plt.legend()\n",
    "\n",
    "# 显示图形\n",
    "plt.show()\n",
    "print(sum(reg_ub)/len(reg_ub))"
   ]
  }
 ],
 "metadata": {
  "kernelspec": {
   "display_name": "Python 3",
   "language": "python",
   "name": "python3"
  },
  "language_info": {
   "codemirror_mode": {
    "name": "ipython",
    "version": 3
   },
   "file_extension": ".py",
   "mimetype": "text/x-python",
   "name": "python",
   "nbconvert_exporter": "python",
   "pygments_lexer": "ipython3",
   "version": "3.12.9"
  }
 },
 "nbformat": 4,
 "nbformat_minor": 2
}
