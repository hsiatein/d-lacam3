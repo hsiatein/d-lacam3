{
 "cells": [
  {
   "cell_type": "code",
   "execution_count": 1,
   "metadata": {},
   "outputs": [],
   "source": [
    "import subprocess\n",
    "import utils\n",
    "import matplotlib.pyplot as plt\n",
    "import numpy as np\n",
    "import pandas as pd\n",
    "\n",
    "mapDict={0:[\"corners\",4],\n",
    "         1:[\"corners2\",5],\n",
    "         2:[\"loop-chain\",7],\n",
    "         3:[\"connector\",6],\n",
    "         4:[\"string\",5],\n",
    "         5:[\"tree\",3],\n",
    "         6:[\"tree2\",17],\n",
    "         7:[\"tunnel\",4],\n",
    "         8:[\"lak303d\",1000],\n",
    "         9:[\"random-32-32-10-2\",485],\n",
    "         10:[\"random-32-32-10\",460],\n",
    "         11:[\"maze-128-128-1\",350],\n",
    "         12:[\"room-64-64-8\",1000],\n",
    "         13:[\"w_woundedcoast\",1000],\n",
    "         14:[\"Berlin_1_256\",1000],\n",
    "         15:[\"brc202d\",1000],\n",
    "         16:[\"den312d\",400],\n",
    "         17:[\"maze-32-32-4\",100],\n",
    "         18:[\"maze-128-128-2\",300],\n",
    "         19:[\"orz900d\",1000],\n",
    "         20:[\"warehouse-20-40-10-2-1\",1000],\n",
    "         21:[\"warehouse-20-40-10-2-2\",1000]}\n",
    "\n",
    "Candidates=[8,10,11,12,13,14,15,16,17,18,19,20,21]"
   ]
  },
  {
   "cell_type": "markdown",
   "metadata": {},
   "source": [
    "读取csv文件"
   ]
  },
  {
   "cell_type": "code",
   "execution_count": 13,
   "metadata": {},
   "outputs": [
    {
     "name": "stdout",
     "output_type": "stream",
     "text": [
      "               instance  total  n0        ub0  n4        ub4  average_ub0  \\\n",
      "0  random-32-32-10&&400     51  51   96.49768  51   93.67884      1.89211   \n",
      "1   maze-128-128-1&&300     51  47  135.00067  50  142.42014      2.87235   \n",
      "\n",
      "   average_ub4  \n",
      "0      1.83684  \n",
      "1      2.84840  \n"
     ]
    },
    {
     "name": "stderr",
     "output_type": "stream",
     "text": [
      "Processing: 100%|██████████| 10/10 [00:10<00:00,  1.06s/it]"
     ]
    },
    {
     "name": "stdout",
     "output_type": "stream",
     "text": [
      "               instance  total  n0        ub0  n4        ub4  average_ub0  \\\n",
      "0  random-32-32-10&&400     51  51   96.49768  51   93.67884      1.89211   \n",
      "1   maze-128-128-1&&300     51  47  135.00067  50  142.42014      2.87235   \n",
      "2   maze-128-128-1&&200     10  10   19.75819  10   17.97566      1.97582   \n",
      "\n",
      "   average_ub4  \n",
      "0      1.83684  \n",
      "1      2.84840  \n",
      "2      1.79757  \n"
     ]
    },
    {
     "name": "stderr",
     "output_type": "stream",
     "text": [
      "\n"
     ]
    }
   ],
   "source": [
    "import random\n",
    "from tqdm import tqdm\n",
    "\n",
    "df = pd.read_csv('result.csv')\n",
    "# 提取特定列\n",
    "columns = ['instance','total', 'n0', 'ub0', 'n4', 'ub4', 'average_ub0', 'average_ub4']\n",
    "# 打印提取的 DataFrame\n",
    "print(df)\n",
    "TieBreakers=['0','4']\n",
    "selected=11\n",
    "num=200\n",
    "instance=mapDict[selected][0]+\"&&\"+str(num)\n",
    "df=utils.check_and_add_instance(df,instance)\n",
    "for i in tqdm(range(10), desc=\"Processing\"):\n",
    "    seed=random.randint(0,100000000)\n",
    "    # print(mapDict[selected][0])\n",
    "    # print(num)\n",
    "    # print(seed)\n",
    "    df=utils.df_add_num(df,instance,'total',1)\n",
    "    for tiebreaker in TieBreakers:\n",
    "        # 构建命令\n",
    "        compute = [\n",
    "            '../build/main',\n",
    "            '-i', f'../assets/{mapDict[selected][0]}.scen',\n",
    "            '-m', f'../assets/{mapDict[selected][0]}.map',\n",
    "            '-N', str(num),\n",
    "            '-v', '1',\n",
    "            '-t', '5',\n",
    "            '--no-star',\n",
    "            '--tie-breaker',tiebreaker,\n",
    "            '-s',str(seed),\n",
    "        ]\n",
    "        try:\n",
    "            # 运行命令\n",
    "            result_compute = subprocess.run(compute, capture_output=True, text=True, check=True)\n",
    "            # 打印输出\n",
    "            # print(\"标准输出:\")\n",
    "            # print(result_compute.stdout)\n",
    "            # print(\"标准错误:\")\n",
    "            # print(result_compute.stderr)\n",
    "            cost,lb,ub=utils.extract_total_cost(result_compute.stdout)\n",
    "            if ub>=1:\n",
    "                df=utils.df_add_num(df,instance,'n'+tiebreaker,1)\n",
    "                df=utils.df_add_num(df,instance,'ub'+tiebreaker,round(ub,5))\n",
    "                average_ub=df.loc[df['instance'] == instance, 'ub'+tiebreaker]/df.loc[df['instance'] == instance, 'n'+tiebreaker]\n",
    "                df=utils.df_set_num(df,instance,'average_ub'+tiebreaker,round(average_ub,5))\n",
    "                df.to_csv('result.csv', index=False)\n",
    "                pass\n",
    "        except subprocess.CalledProcessError as e:\n",
    "            print(f\"命令执行失败: {e}\")\n",
    "            print(f\"返回码: {e.returncode}\")\n",
    "            print(f\"标准错误: {e.stderr}\")\n",
    "            break\n",
    "    # print(df)\n",
    "print(df)\n"
   ]
  }
 ],
 "metadata": {
  "kernelspec": {
   "display_name": "Python 3",
   "language": "python",
   "name": "python3"
  },
  "language_info": {
   "codemirror_mode": {
    "name": "ipython",
    "version": 3
   },
   "file_extension": ".py",
   "mimetype": "text/x-python",
   "name": "python",
   "nbconvert_exporter": "python",
   "pygments_lexer": "ipython3",
   "version": "3.12.9"
  }
 },
 "nbformat": 4,
 "nbformat_minor": 2
}
