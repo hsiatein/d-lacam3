{
 "cells": [
  {
   "cell_type": "code",
   "execution_count": 37,
   "metadata": {},
   "outputs": [],
   "source": [
    "import subprocess\n",
    "import utils\n",
    "import matplotlib.pyplot as plt\n",
    "import numpy as np\n",
    "import pandas as pd"
   ]
  },
  {
   "cell_type": "code",
   "execution_count": 38,
   "metadata": {},
   "outputs": [],
   "source": [
    "mapDict={0:[\"corners\",4],\n",
    "         1:[\"corners2\",5],\n",
    "         2:[\"loop-chain\",7],\n",
    "         3:[\"connector\",6],\n",
    "         4:[\"string\",5],\n",
    "         5:[\"tree\",3],\n",
    "         6:[\"tree2\",17],\n",
    "         7:[\"tunnel\",4],\n",
    "         8:[\"lak303d\",1000],\n",
    "         9:[\"random-32-32-10-2\",485],\n",
    "         10:[\"random-32-32-10\",460],\n",
    "         11:[\"maze-128-128-1\",350],\n",
    "         12:[\"room-64-64-8\",1000],\n",
    "         13:[\"w_woundedcoast\",1000],\n",
    "         14:[\"Berlin_1_256\",1000],\n",
    "         15:[\"brc202d\",1000],\n",
    "         16:[\"den312d\",400],\n",
    "         17:[\"maze-32-32-4\",100],\n",
    "         18:[\"maze-128-128-2\",300],\n",
    "         19:[\"orz900d\",1000],\n",
    "         20:[\"warehouse-20-40-10-2-1\",1000],\n",
    "         21:[\"warehouse-20-40-10-2-2\",1000],\n",
    "         22:[\"room-32-32-4\"],\n",
    "         23:[\"warehouse-10-20-10-2-1\"]}\n",
    "\n",
    "Candidates=[8,10,11,12,13,14,15,16,17,18,19,20,21]"
   ]
  },
  {
   "cell_type": "markdown",
   "metadata": {},
   "source": [
    "读取csv文件"
   ]
  },
  {
   "cell_type": "code",
   "execution_count": 46,
   "metadata": {},
   "outputs": [
    {
     "name": "stderr",
     "output_type": "stream",
     "text": [
      "Processing: 100%|██████████| 50/50 [00:41<00:00,  1.21it/s, message=average_ub0:1.44507,average_ub4:1.39913]"
     ]
    },
    {
     "name": "stdout",
     "output_type": "stream",
     "text": [
      "                        instance  total   n0        ub0   n4        ub4  \\\n",
      "0           random-32-32-10&&400     51   51   96.49768   51   93.67884   \n",
      "1            maze-128-128-1&&300     51   47  135.00067   50  142.42014   \n",
      "2            maze-128-128-1&&200     50   50   96.75626   50   89.89157   \n",
      "3            maze-128-128-1&&100     50   50   74.55139   50   73.05265   \n",
      "4             Berlin_1_256&&1000     50   50   51.14929   50   51.07745   \n",
      "5                   den312d&&400     50   50   91.72644   50   91.04574   \n",
      "6                   den312d&&600     52   52  137.36559   52  131.94986   \n",
      "7                   den312d&&800     57   57  217.33818   57  204.80594   \n",
      "8                  den312d&&1000     50   50  241.59051   50  229.90559   \n",
      "9   warehouse-20-40-10-2-1&&1000     50   50   55.55623   50   54.88429   \n",
      "10                 brc202d&&2000     50   50   67.77552   50   66.35611   \n",
      "11          random-32-32-10&&460    100  100  219.32012  100  210.87688   \n",
      "12             maze-32-32-4&&100    100  100  137.01382  100  136.50026   \n",
      "13             maze-32-32-4&&200    250  250  636.06476  250  630.68557   \n",
      "14           maze-128-128-2&&300     50   50   60.91107   50   60.05920   \n",
      "15           maze-128-128-2&&400     50   50   63.22752   50   62.17585   \n",
      "16           maze-128-128-2&&600     50   50   69.35894   50   67.72425   \n",
      "17           maze-128-128-2&&800     50   50   75.48863   50   73.48727   \n",
      "18          maze-128-128-2&&1000     50   50   80.02212   50   78.15669   \n",
      "19             room-32-32-4&&100    100  100  144.40449  100  144.11857   \n",
      "20             room-32-32-4&&200     50   50  115.96832   50  114.36619   \n",
      "21             room-32-32-4&&300     50   50  182.74652   50  179.82603   \n",
      "22  warehouse-10-20-10-2-1&&1000     50   50   99.31780   50   95.60365   \n",
      "23   warehouse-10-20-10-2-1&&800     50   50   83.10329   50   80.41251   \n",
      "24   warehouse-10-20-10-2-1&&600     50   50   72.25345   50   69.95652   \n",
      "\n",
      "    average_ub0  average_ub4  \n",
      "0       1.89211      1.83684  \n",
      "1       2.87235      2.84840  \n",
      "2       1.93513      1.79783  \n",
      "3       1.49103      1.46105  \n",
      "4       1.02299      1.02155  \n",
      "5       1.83453      1.82091  \n",
      "6       2.64165      2.53750  \n",
      "7       3.81295      3.59309  \n",
      "8       4.83181      4.59811  \n",
      "9       1.11112      1.09769  \n",
      "10      1.35551      1.32712  \n",
      "11      2.19320      2.10877  \n",
      "12      1.37014      1.36500  \n",
      "13      2.54426      2.52274  \n",
      "14      1.21822      1.20118  \n",
      "15      1.26455      1.24352  \n",
      "16      1.38718      1.35448  \n",
      "17      1.50977      1.46975  \n",
      "18      1.60044      1.56313  \n",
      "19      1.44404      1.44119  \n",
      "20      2.31937      2.28732  \n",
      "21      3.65493      3.59652  \n",
      "22      1.98636      1.91207  \n",
      "23      1.66207      1.60825  \n",
      "24      1.44507      1.39913  \n"
     ]
    },
    {
     "name": "stderr",
     "output_type": "stream",
     "text": [
      "\n"
     ]
    }
   ],
   "source": [
    "import random\n",
    "from tqdm import tqdm\n",
    "\n",
    "df = pd.read_csv('result.csv')\n",
    "# 提取特定列\n",
    "columns = ['instance','total', 'n0', 'ub0', 'n4', 'ub4', 'average_ub0', 'average_ub4']\n",
    "# 打印提取的 DataFrame\n",
    "TieBreakers=['0','4']\n",
    "selected=23\n",
    "num=600\n",
    "instance=mapDict[selected][0]+\"&&\"+str(num)\n",
    "df=utils.check_and_add_instance(df,instance)\n",
    "seeds_num=50\n",
    "with tqdm(total=seeds_num, desc=\"Processing\") as pbar:\n",
    "    for i in range(seeds_num):\n",
    "        seed=random.randint(0,100000000)\n",
    "        # print(mapDict[selected][0])\n",
    "        # print(num)\n",
    "        # print(seed)\n",
    "        df=utils.df_add_num(df,instance,'total',1)\n",
    "        for tiebreaker in TieBreakers:\n",
    "            # 构建命令\n",
    "            compute = [\n",
    "                '../build/main',\n",
    "                '-i', f'../assets/{mapDict[selected][0]}.scen',\n",
    "                '-m', f'../assets/{mapDict[selected][0]}.map',\n",
    "                '-N', str(num),\n",
    "                '-v', '1',\n",
    "                '-t', '10',\n",
    "                '--no-star',\n",
    "                '--tie-breaker',tiebreaker,\n",
    "                '-s',str(seed),\n",
    "            ]\n",
    "            try:\n",
    "                # 运行命令\n",
    "                result_compute = subprocess.run(compute, capture_output=True, text=True, check=True)\n",
    "                # 打印输出\n",
    "                # print(\"标准输出:\")\n",
    "                # print(result_compute.stdout)\n",
    "                # print(\"标准错误:\")\n",
    "                # print(result_compute.stderr)\n",
    "                cost,lb,ub=utils.extract_total_cost(result_compute.stdout)\n",
    "                if ub>=1:\n",
    "                    df=utils.df_add_num(df,instance,'n'+tiebreaker,1)\n",
    "                    df=utils.df_add_num(df,instance,'ub'+tiebreaker,round(ub,5))\n",
    "                    average_ub=df.loc[df['instance'] == instance, 'ub'+tiebreaker]/df.loc[df['instance'] == instance, 'n'+tiebreaker]\n",
    "                    df=utils.df_set_num(df,instance,'average_ub'+tiebreaker,round(average_ub,5))\n",
    "                    df.to_csv('result.csv', index=False)\n",
    "                    pass\n",
    "            except subprocess.CalledProcessError as e:\n",
    "                print(f\"命令执行失败: {e}\")\n",
    "                print(f\"返回码: {e.returncode}\")\n",
    "                print(f\"标准错误: {e.stderr}\")\n",
    "                break\n",
    "        pbar.set_postfix(message=f\"average_ub0:{df.loc[df['instance'] == instance, 'average_ub0'].values[0]},average_ub4:{df.loc[df['instance'] == instance, 'average_ub4'].values[0]}\")\n",
    "        #pbar.write(df.to_string())\n",
    "        pbar.update(1)\n",
    "print(df)\n"
   ]
  }
 ],
 "metadata": {
  "kernelspec": {
   "display_name": "Python 3",
   "language": "python",
   "name": "python3"
  },
  "language_info": {
   "codemirror_mode": {
    "name": "ipython",
    "version": 3
   },
   "file_extension": ".py",
   "mimetype": "text/x-python",
   "name": "python",
   "nbconvert_exporter": "python",
   "pygments_lexer": "ipython3",
   "version": "3.12.9"
  }
 },
 "nbformat": 4,
 "nbformat_minor": 2
}
